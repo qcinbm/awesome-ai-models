{
 "cells": [
  {
   "cell_type": "markdown",
   "metadata": {},
   "source": [
    "## Convolution"
   ]
  },
  {
   "cell_type": "code",
   "execution_count": 1,
   "metadata": {},
   "outputs": [
    {
     "name": "stdout",
     "output_type": "stream",
     "text": [
      "Input:\n",
      "tensor([[[4., 2., 3., 1., 1., 2.],\n",
      "         [1., 0., 2., 2., 3., 1.],\n",
      "         [4., 3., 0., 1., 3., 0.],\n",
      "         [0., 2., 2., 3., 1., 4.],\n",
      "         [0., 2., 3., 0., 4., 4.],\n",
      "         [4., 1., 2., 2., 3., 2.]]])\n",
      "Initial Kernel Weight:\n",
      "tensor([[[[1., 0., 0.],\n",
      "          [1., 0., 0.],\n",
      "          [0., 0., 1.]]]])\n",
      "Convolutional Layer Weights:\n",
      "Parameter containing:\n",
      "tensor([[[[1., 0., 0.],\n",
      "          [1., 0., 0.],\n",
      "          [0., 0., 1.]]]], requires_grad=True)\n",
      "Output:\n",
      "tensor([[[5., 3., 8., 3.],\n",
      "         [7., 6., 3., 7.],\n",
      "         [7., 5., 6., 8.],\n",
      "         [2., 6., 8., 5.]]], grad_fn=<SqueezeBackward1>)\n"
     ]
    }
   ],
   "source": [
    "import torch\n",
    "import torch.nn as nn\n",
    "\n",
    "# Create input tensor\n",
    "input = torch.randint(5, (1, 6, 6), dtype=torch.float32)\n",
    "print(\"Input:\")\n",
    "print(input)\n",
    "\n",
    "# Define convolutional layer\n",
    "conv_layer = nn.Conv2d(\n",
    "    in_channels=1,\n",
    "    out_channels=1,\n",
    "    kernel_size=3,  # Create a kernel of size 3x3\n",
    "    bias=False\n",
    ")\n",
    "\n",
    "# Random initialization of kernel weights\n",
    "init_kernel_weight = torch.randint(\n",
    "    high=2,\n",
    "    size=(conv_layer.weight.data.shape),\n",
    "    dtype=torch.float32\n",
    ")\n",
    "print(\"Initial Kernel Weight:\")\n",
    "print(init_kernel_weight)\n",
    "\n",
    "# Initialize the convolutional layer weights\n",
    "conv_layer.weight.data = init_kernel_weight\n",
    "print(\"Convolutional Layer Weights:\")\n",
    "print(conv_layer.weight)\n",
    "\n",
    "# Apply convolution\n",
    "output = conv_layer(input)\n",
    "print(\"Output:\")\n",
    "print(output)"
   ]
  },
  {
   "cell_type": "markdown",
   "metadata": {},
   "source": [
    "## Padding"
   ]
  },
  {
   "cell_type": "code",
   "execution_count": 2,
   "metadata": {},
   "outputs": [
    {
     "name": "stdout",
     "output_type": "stream",
     "text": [
      "Input:\n",
      "tensor([[[[4., 3., 0., 1.],\n",
      "          [3., 4., 4., 0.],\n",
      "          [4., 2., 1., 1.],\n",
      "          [2., 2., 1., 3.]]]])\n",
      "\n",
      "Initialized Kernel Weight:\n",
      "Parameter containing:\n",
      "tensor([[[[0., 0., 1.],\n",
      "          [0., 0., 1.],\n",
      "          [1., 0., 0.]]]], requires_grad=True)\n",
      "\n",
      "Initialized Bias:\n",
      "Parameter containing:\n",
      "tensor([1.], requires_grad=True)\n",
      "\n",
      "Output:\n",
      "tensor([[[[4., 4., 6., 5.],\n",
      "          [8., 9., 4., 2.],\n",
      "          [7., 8., 4., 2.],\n",
      "          [5., 3., 5., 1.]]]], grad_fn=<ConvolutionBackward0>)\n"
     ]
    }
   ],
   "source": [
    "import torch\n",
    "import torch.nn as nn\n",
    "\n",
    "# Tạo tensor đầu vào ngẫu nhiên\n",
    "input = torch.randint(5, (1, 1, 4, 4), dtype=torch.float32)\n",
    "print(\"Input:\")\n",
    "print(input)\n",
    "\n",
    "# Khởi tạo trọng số kernel ngẫu nhiên\n",
    "conv_layer = nn.Conv2d(\n",
    "    in_channels=1,\n",
    "    out_channels=1,\n",
    "    kernel_size=3,\n",
    "    padding='same'  # Sử dụng padding \"same\"\n",
    ")\n",
    "\n",
    "# Khởi tạo giá trị trọng số của kernel\n",
    "init_kernel_weight = torch.randint(\n",
    "    high=2,\n",
    "    size=conv_layer.weight.data.shape,\n",
    "    dtype=torch.float32\n",
    ")\n",
    "conv_layer.weight.data = init_kernel_weight\n",
    "print(\"\\nInitialized Kernel Weight:\")\n",
    "print(conv_layer.weight)\n",
    "\n",
    "# Khởi tạo giá trị bias\n",
    "conv_layer.bias = nn.Parameter(torch.tensor([1.], dtype=torch.float32))\n",
    "print(\"\\nInitialized Bias:\")\n",
    "print(conv_layer.bias)\n",
    "\n",
    "# Thực hiện tích chập\n",
    "output = conv_layer(input)\n",
    "print(\"\\nOutput:\")\n",
    "print(output)"
   ]
  },
  {
   "cell_type": "markdown",
   "metadata": {},
   "source": [
    "## Strike"
   ]
  },
  {
   "cell_type": "code",
   "execution_count": 3,
   "metadata": {},
   "outputs": [
    {
     "name": "stdout",
     "output_type": "stream",
     "text": [
      "Input:\n",
      "tensor([[[[1., 3., 3., 4., 4., 1.],\n",
      "          [0., 1., 0., 4., 3., 1.],\n",
      "          [1., 3., 2., 2., 2., 4.],\n",
      "          [2., 2., 0., 4., 2., 0.],\n",
      "          [0., 0., 3., 0., 1., 1.],\n",
      "          [3., 2., 1., 2., 2., 1.]]]])\n",
      "\n",
      "Initialized Kernel Weight:\n",
      "Parameter containing:\n",
      "tensor([[[[1., 1., 1.],\n",
      "          [1., 1., 1.],\n",
      "          [0., 1., 0.]]]], requires_grad=True)\n",
      "\n",
      "Initialized Bias:\n",
      "Parameter containing:\n",
      "tensor([1.], requires_grad=True)\n",
      "\n",
      "Output:\n",
      "tensor([[[[12., 21.],\n",
      "          [11., 13.]]]], grad_fn=<ConvolutionBackward0>)\n"
     ]
    }
   ],
   "source": [
    "import torch\n",
    "import torch.nn as nn\n",
    "\n",
    "# Tạo tensor đầu vào ngẫu nhiên với kích thước (1, 1, 6, 6)\n",
    "input = torch.randint(5, (1, 1, 6, 6), dtype=torch.float32)\n",
    "print(\"Input:\")\n",
    "print(input)\n",
    "\n",
    "# Định nghĩa lớp convolutional layer với stride=2\n",
    "conv_layer = nn.Conv2d(\n",
    "    in_channels=1,\n",
    "    out_channels=1,\n",
    "    kernel_size=3,  # Tạo kernel 3x3\n",
    "    stride=2  # Sử dụng stride=2\n",
    ")\n",
    "\n",
    "# Khởi tạo trọng số kernel\n",
    "init_kernel_weight = torch.tensor([[[[1., 1., 1.],\n",
    "                                     [1., 1., 1.],\n",
    "                                     [0., 1., 0.]]]], dtype=torch.float32)\n",
    "conv_layer.weight.data = init_kernel_weight\n",
    "print(\"\\nInitialized Kernel Weight:\")\n",
    "print(conv_layer.weight)\n",
    "\n",
    "# Khởi tạo bias\n",
    "conv_layer.bias = nn.Parameter(torch.tensor([1.], dtype=torch.float32))\n",
    "print(\"\\nInitialized Bias:\")\n",
    "print(conv_layer.bias)\n",
    "\n",
    "# Thực hiện tích chập\n",
    "output = conv_layer(input)\n",
    "print(\"\\nOutput:\")\n",
    "print(output)"
   ]
  },
  {
   "cell_type": "markdown",
   "metadata": {},
   "source": [
    "## Polling"
   ]
  },
  {
   "cell_type": "code",
   "execution_count": 4,
   "metadata": {},
   "outputs": [
    {
     "name": "stdout",
     "output_type": "stream",
     "text": [
      "Input:\n",
      "tensor([[[3., 2., 1., 0., 0., 3.],\n",
      "         [0., 3., 3., 1., 1., 0.],\n",
      "         [3., 1., 4., 1., 1., 0.],\n",
      "         [2., 4., 1., 1., 0., 4.],\n",
      "         [1., 0., 3., 0., 3., 0.],\n",
      "         [3., 4., 4., 3., 3., 4.]]])\n",
      "\n",
      "Output:\n",
      "tensor([[[2.0000, 1.0000],\n",
      "         [2.0000, 0.6667],\n",
      "         [2.6667, 0.6667],\n",
      "         [2.3333, 1.6667],\n",
      "         [1.3333, 1.0000],\n",
      "         [3.6667, 3.3333]]])\n"
     ]
    }
   ],
   "source": [
    "import torch\n",
    "import torch.nn as nn\n",
    "\n",
    "# Tạo tensor đầu vào\n",
    "input = torch.tensor([[[3., 2., 1., 0., 0., 3.],\n",
    "                       [0., 3., 3., 1., 1., 0.],\n",
    "                       [3., 1., 4., 1., 1., 0.],\n",
    "                       [2., 4., 1., 1., 0., 4.],\n",
    "                       [1., 0., 3., 0., 3., 0.],\n",
    "                       [3., 4., 4., 3., 3., 4.]]])\n",
    "\n",
    "print(\"Input:\")\n",
    "print(input)\n",
    "\n",
    "# Khởi tạo lớp Average Pooling với kernel size 3 và stride 3\n",
    "avg_pool_layer = nn.AvgPool1d(\n",
    "    kernel_size=3,\n",
    "    stride=3\n",
    ")\n",
    "\n",
    "# Áp dụng Average Pooling lên đầu vào\n",
    "output = avg_pool_layer(input)\n",
    "print(\"\\nOutput:\")\n",
    "print(output)"
   ]
  },
  {
   "cell_type": "markdown",
   "metadata": {},
   "source": [
    "## Flatten\n"
   ]
  },
  {
   "cell_type": "code",
   "execution_count": 5,
   "metadata": {},
   "outputs": [
    {
     "name": "stdout",
     "output_type": "stream",
     "text": [
      "Input:\n",
      "tensor([[[0., 0.],\n",
      "         [4., 3.],\n",
      "         [1., 0.]]])\n",
      "\n",
      "Output:\n",
      "tensor([[0., 0., 4., 3., 1., 0.]])\n"
     ]
    }
   ],
   "source": [
    "import torch\n",
    "import torch.nn as nn\n",
    "\n",
    "# Tạo tensor đầu vào\n",
    "input = torch.randint(5, (1, 3, 2), dtype=torch.float32)\n",
    "print(\"Input:\")\n",
    "print(input)\n",
    "\n",
    "# Khởi tạo lớp Flatten\n",
    "flatten_layer = nn.Flatten()\n",
    "\n",
    "# Làm phẳng tensor đầu vào\n",
    "output = flatten_layer(input)\n",
    "print(\"\\nOutput:\")\n",
    "print(output)"
   ]
  },
  {
   "cell_type": "code",
   "execution_count": null,
   "metadata": {},
   "outputs": [],
   "source": []
  }
 ],
 "metadata": {
  "kernelspec": {
   "display_name": "awesome-env",
   "language": "python",
   "name": "python3"
  },
  "language_info": {
   "codemirror_mode": {
    "name": "ipython",
    "version": 3
   },
   "file_extension": ".py",
   "mimetype": "text/x-python",
   "name": "python",
   "nbconvert_exporter": "python",
   "pygments_lexer": "ipython3",
   "version": "3.11.10"
  }
 },
 "nbformat": 4,
 "nbformat_minor": 2
}
