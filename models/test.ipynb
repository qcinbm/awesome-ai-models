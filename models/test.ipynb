{
 "cells": [
  {
   "cell_type": "code",
   "execution_count": null,
   "metadata": {},
   "outputs": [
    {
     "name": "stdout",
     "output_type": "stream",
     "text": [
      "Sigmoid: [0.26894142 0.5        0.73105858]\n",
      "ReLU: [0 0 1]\n",
      "Leaky ReLU: [-0.01  0.    1.  ]\n"
     ]
    }
   ],
   "source": [
    "from utils.activation_functions import sigmoid, relu, leaky_relu, tanh, softmax\n",
    "import numpy as np\n",
    "\n"
   ]
  },
  {
   "cell_type": "code",
   "execution_count": 4,
   "metadata": {},
   "outputs": [
    {
     "name": "stdout",
     "output_type": "stream",
     "text": [
      "Sigmoid: [0.26894142 0.5        0.73105858]\n",
      "ReLU: [0 0 1]\n",
      "Leaky ReLU: [-0.01  0.    1.  ]\n"
     ]
    }
   ],
   "source": [
    "# Activation function test\n",
    "x = np.array([-1, 0, 1])\n",
    "print(\"Sigmoid:\", sigmoid(x))           #Sigmoid: [0.26894142 0.5        0.73105858]\n",
    "print(\"ReLU:\", relu(x))                 #ReLU: [0 0 1]\n",
    "print(\"Leaky ReLU:\", leaky_relu(x))     #Leaky ReLU: [-0.01  0.    1.  ]\n"
   ]
  }
 ],
 "metadata": {
  "kernelspec": {
   "display_name": "awesome-env",
   "language": "python",
   "name": "python3"
  },
  "language_info": {
   "codemirror_mode": {
    "name": "ipython",
    "version": 3
   },
   "file_extension": ".py",
   "mimetype": "text/x-python",
   "name": "python",
   "nbconvert_exporter": "python",
   "pygments_lexer": "ipython3",
   "version": "3.11.10"
  }
 },
 "nbformat": 4,
 "nbformat_minor": 2
}
