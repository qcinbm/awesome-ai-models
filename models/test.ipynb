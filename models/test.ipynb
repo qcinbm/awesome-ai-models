{
 "cells": [
  {
   "cell_type": "code",
   "execution_count": 1,
   "metadata": {},
   "outputs": [],
   "source": [
    "from utils.activation_functions import sigmoid, relu, leaky_relu, tanh, softmax\n",
    "import numpy as np\n",
    "from utils.loss_functions import mean_squared_error, mean_absolute_error, binary_crossentropy, categorical_crossentropy, huber_loss, cross_entropy_loss"
   ]
  },
  {
   "cell_type": "code",
   "execution_count": 4,
   "metadata": {},
   "outputs": [
    {
     "name": "stdout",
     "output_type": "stream",
     "text": [
      "Sigmoid: [0.26894142 0.5        0.73105858]\n",
      "ReLU: [0 0 1]\n",
      "Leaky ReLU: [-0.01  0.    1.  ]\n"
     ]
    }
   ],
   "source": [
    "# Activation function test\n",
    "x = np.array([-1, 0, 1])\n",
    "print(\"Sigmoid:\", sigmoid(x))           #Sigmoid: [0.26894142 0.5        0.73105858]\n",
    "print(\"ReLU:\", relu(x))                 #ReLU: [0 0 1]\n",
    "print(\"Leaky ReLU:\", leaky_relu(x))     #Leaky ReLU: [-0.01  0.    1.  ]\n"
   ]
  },
  {
   "cell_type": "code",
   "execution_count": null,
   "metadata": {},
   "outputs": [
    {
     "name": "stdout",
     "output_type": "stream",
     "text": [
      "Mean Squared Error: 0.0375\n",
      "Mean Absolute Error: 0.175\n",
      "Binary Crossentropy: 0.19763488164214868\n",
      "Cross Entropy Loss 0.19763488164214868\n"
     ]
    }
   ],
   "source": [
    "y_true = np.array([1, 0, 1, 1])\n",
    "y_pred = np.array([0.9, 0.1, 0.8, 0.7])\n",
    "\n",
    "mse = mean_squared_error(y_true, y_pred)\n",
    "mae = mean_absolute_error(y_true, y_pred)\n",
    "bce = binary_crossentropy(y_true, y_pred)\n",
    "cel = cross_entropy_loss(y_true, y_pred)\n",
    "\n",
    "print(\"Mean Squared Error:\", mse)\n",
    "print(\"Mean Absolute Error:\", mae)\n",
    "print(\"Binary Cross Entropy:\", bce)\n",
    "print(\"Cross Entropy Loss\", cel)"
   ]
  },
  {
   "cell_type": "code",
   "execution_count": null,
   "metadata": {},
   "outputs": [],
   "source": []
  }
 ],
 "metadata": {
  "kernelspec": {
   "display_name": "awesome-env",
   "language": "python",
   "name": "python3"
  },
  "language_info": {
   "codemirror_mode": {
    "name": "ipython",
    "version": 3
   },
   "file_extension": ".py",
   "mimetype": "text/x-python",
   "name": "python",
   "nbconvert_exporter": "python",
   "pygments_lexer": "ipython3",
   "version": "3.11.10"
  }
 },
 "nbformat": 4,
 "nbformat_minor": 2
}
